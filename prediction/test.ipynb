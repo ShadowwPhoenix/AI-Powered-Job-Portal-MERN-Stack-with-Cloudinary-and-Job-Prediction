{
 "cells": [
  {
   "cell_type": "code",
   "execution_count": null,
   "metadata": {},
   "outputs": [
    {
     "name": "stdout",
     "output_type": "stream",
     "text": [
      "The student is likely to be placed.\n"
     ]
    },
    {
     "name": "stderr",
     "output_type": "stream",
     "text": [
      "c:\\Users\\mvy48\\AppData\\Local\\Programs\\Python\\Python311\\Lib\\site-packages\\sklearn\\base.py:465: UserWarning: X does not have valid feature names, but RandomForestClassifier was fitted with feature names\n",
      "  warnings.warn(\n"
     ]
    }
   ],
   "source": [
    "import joblib\n",
    "import numpy as np\n",
    "\n",
    "model = joblib.load('job_placement_model.pkl')\n",
    "\n",
    "age = int(input(\"Enter the age: \"))\n",
    "gender = input(\"Enter the gender (Male/Female): \")\n",
    "stream = input(\"Enter the stream (e.g., Electronics And Communication, Computer Science, etc.): \")\n",
    "internships = int(input(\"Enter number of internships (0 or 1): \"))\n",
    "cgpa = float(input(\"Enter CGPA: \"))\n",
    "history_of_backlogs = int(input(\"Has the student had backlogs? (1 for Yes, 0 for No): \"))\n",
    "\n",
    "gender_encoded = 1 if gender.lower() == 'male' else 0 \n",
    "stream_encoded = 0 \n",
    "\n",
    "input_features = np.array([[\n",
    "    age, gender_encoded, stream_encoded, internships, cgpa, history_of_backlogs\n",
    "]])\n",
    "\n",
    "prediction = model.predict(input_features)\n",
    "if prediction[0] == 1:\n",
    "    print(\"The student is likely to be placed.\")\n",
    "else:\n",
    "    print(\"The student is unlikely to be placed.\")\n"
   ]
  }
 ],
 "metadata": {
  "kernelspec": {
   "display_name": "Python 3",
   "language": "python",
   "name": "python3"
  },
  "language_info": {
   "codemirror_mode": {
    "name": "ipython",
    "version": 3
   },
   "file_extension": ".py",
   "mimetype": "text/x-python",
   "name": "python",
   "nbconvert_exporter": "python",
   "pygments_lexer": "ipython3",
   "version": "3.11.4"
  }
 },
 "nbformat": 4,
 "nbformat_minor": 2
}
